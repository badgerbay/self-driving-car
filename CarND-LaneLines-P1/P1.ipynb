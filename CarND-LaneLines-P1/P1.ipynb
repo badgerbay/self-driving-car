{
 "cells": [
  {
   "cell_type": "markdown",
   "metadata": {
    "deletable": true,
    "editable": true
   },
   "source": [
    "# **Finding Lane Lines on the Road** \n",
    "***\n",
    "In this project, you will use the tools you learned about in the lesson to identify lane lines on the road.  You can develop your pipeline on a series of individual images, and later apply the result to a video stream (really just a series of images). Check out the video clip \"raw-lines-example.mp4\" (also contained in this repository) to see what the output should look like after using the helper functions below. \n",
    "\n",
    "Once you have a result that looks roughly like \"raw-lines-example.mp4\", you'll need to get creative and try to average and/or extrapolate the line segments you've detected to map out the full extent of the lane lines.  You can see an example of the result you're going for in the video \"P1_example.mp4\".  Ultimately, you would like to draw just one line for the left side of the lane, and one for the right.\n",
    "\n",
    "---\n",
    "Let's have a look at our first image called 'test_images/solidWhiteRight.jpg'.  Run the 2 cells below (hit Shift-Enter or the \"play\" button above) to display the image.\n",
    "\n",
    "**Note** If, at any point, you encounter frozen display windows or other confounding issues, you can always start again with a clean slate by going to the \"Kernel\" menu above and selecting \"Restart & Clear Output\".\n",
    "\n",
    "---"
   ]
  },
  {
   "cell_type": "markdown",
   "metadata": {
    "deletable": true,
    "editable": true
   },
   "source": [
    "**The tools you have are color selection, region of interest selection, grayscaling, Gaussian smoothing, Canny Edge Detection and Hough Tranform line detection.  You  are also free to explore and try other techniques that were not presented in the lesson.  Your goal is piece together a pipeline to detect the line segments in the image, then average/extrapolate them and draw them onto the image for display (as below).  Once you have a working pipeline, try it out on the video stream below.**\n",
    "\n",
    "---\n",
    "\n",
    "<figure>\n",
    " <img src=\"line-segments-example.jpg\" width=\"380\" alt=\"Combined Image\" />\n",
    " <figcaption>\n",
    " <p></p> \n",
    " <p style=\"text-align: center;\"> Your output should look something like this (above) after detecting line segments using the helper functions below </p> \n",
    " </figcaption>\n",
    "</figure>\n",
    " <p></p> \n",
    "<figure>\n",
    " <img src=\"laneLines_thirdPass.jpg\" width=\"380\" alt=\"Combined Image\" />\n",
    " <figcaption>\n",
    " <p></p> \n",
    " <p style=\"text-align: center;\"> Your goal is to connect/average/extrapolate line segments to get output like this</p> \n",
    " </figcaption>\n",
    "</figure>"
   ]
  },
  {
   "cell_type": "code",
   "execution_count": null,
   "metadata": {
    "collapsed": false,
    "deletable": true,
    "editable": true
   },
   "outputs": [],
   "source": [
    "#importing some necessary and useful packages\n",
    "import matplotlib.pyplot as plt\n",
    "import matplotlib.image as mpimg\n",
    "import collections\n",
    "import numpy as np\n",
    "import cv2\n",
    "import math\n",
    "%matplotlib inline\n"
   ]
  },
  {
   "cell_type": "code",
   "execution_count": null,
   "metadata": {
    "collapsed": false,
    "deletable": true,
    "editable": true
   },
   "outputs": [],
   "source": [
    "#reading in an image\n",
    "image = mpimg.imread('test_images/solidWhiteRight.jpg')\n",
    "#printing out some stats and plotting\n",
    "print('This image is:', type(image), 'with dimensions:', image.shape)\n",
    "plt.imshow(image)  #call as plt.imshow(gray, cmap='gray') to show a grayscaled image"
   ]
  },
  {
   "cell_type": "markdown",
   "metadata": {
    "deletable": true,
    "editable": true
   },
   "source": [
    "**Some OpenCV functions (beyond those introduced in the lesson) that might be useful for this project are:**\n",
    "\n",
    "`cv2.inRange()` for color selection  \n",
    "`cv2.fillPoly()` for regions selection  \n",
    "`cv2.line()` to draw lines on an image given endpoints  \n",
    "`cv2.addWeighted()` to coadd / overlay two images\n",
    "`cv2.cvtColor()` to grayscale or change color\n",
    "`cv2.imwrite()` to output images to file  \n",
    "`cv2.bitwise_and()` to apply a mask to an image\n",
    "\n",
    "**Check out the OpenCV documentation to learn about these and discover even more awesome functionality!**"
   ]
  },
  {
   "cell_type": "markdown",
   "metadata": {
    "deletable": true,
    "editable": true
   },
   "source": [
    "Below are some helper functions to help get you started. They should look familiar from the lesson!"
   ]
  },
  {
   "cell_type": "code",
   "execution_count": null,
   "metadata": {
    "collapsed": false,
    "deletable": true,
    "editable": true
   },
   "outputs": [],
   "source": [
    "def grayscale(img):\n",
    "    \"\"\"Applies the Grayscale transform\n",
    "    This will return an image with only one color channel\n",
    "    but NOTE: to see the returned image as grayscale\n",
    "    you should call plt.imshow(gray, cmap='gray')\"\"\"\n",
    "    return cv2.cvtColor(img, cv2.COLOR_RGB2GRAY)\n",
    "    # Or use BGR2GRAY if you read an image with cv2.imread()\n",
    "    # return cv2.cvtColor(img, cv2.COLOR_BGR2GRAY)\n",
    "    \n",
    "    \"\"\"MP:\n",
    "    https://www.quora.com/In-image-processing-applications-why-do-we-convert-from-RGB-to-Grayscale\n",
    "    Vector vs Scalar: Image processing uses the concept of ‘comparing’ sections...Comparison in Grayscale \n",
    "    involves simple scalar algebraic operators (+ , -)....to differentiate colours, the methods are a bit more complex. \n",
    "    Usually, to get good results [when differentiating colors], some kind of Vector difference is needed. \n",
    "    This is computationally more complex, and still does not provide guaranteed better results. \n",
    "    Intensity data is usually sufficient...for edge detection.\"\"\"\n",
    "    \n",
    "def canny(img, low_threshold, high_threshold):\n",
    "    \"\"\"Applies the Canny transform\"\"\"\n",
    "    return cv2.Canny(img, low_threshold, high_threshold)\n",
    "\n",
    "    \"\"\"#MP:Perform canny BEFORE applying region of interest\n",
    "    https://en.wikipedia.org/wiki/Canny_edge_detector\n",
    "    \n",
    "      The Process of Canny edge detection algorithm (5 steps)\n",
    "    1.Apply Gaussian filter to smooth the image in order to remove the noise\n",
    "    2.Find the intensity gradients of the image\n",
    "    3.Apply non-maximum suppression to get rid of spurious response to edge detection\n",
    "    4.Apply double threshold to determine potential edges\n",
    "    5.Track edge by hysteresis: Finalize the detection of edges by suppressing all the other edges that are weak\n",
    "    and not connected to strong edges.\"\"\"\n",
    "\n",
    "def gaussian_blur(img, kernel_size):\n",
    "    \"\"\"Applies a Gaussian Noise kernel\"\"\"\n",
    "    return cv2.GaussianBlur(img, (kernel_size, kernel_size), 0)\n",
    "\n",
    "    \"\"\"\n",
    "    MP:\n",
    "    In the order of the pipeline, it is important to do the region of interest AFTER the canny. \n",
    "    If you reverse the order, the change to the black areas is detetected as an edge.\n",
    "        \n",
    "    https://en.wikipedia.org/wiki/Gaussian_blur\n",
    "    In image processing, a Gaussian blur (also known as Gaussian smoothing) is the result of blurring an image\n",
    "    by a Gaussian function. It is a widely used effect in graphics software, typically to reduce image noise and reduce\n",
    "    detail,[edge detection filters are sensitive to noise]. ... Gaussian smoothing is also used as a pre-processing stage\n",
    "    in computer vision algorithms in order to enhance image structures at different scales—see scale space representation\n",
    "    and scale space implementation. \"\"\"\n",
    "\n",
    "def region_of_interest(img, vertices):\n",
    "    \n",
    "    \"\"\"Applies an image mask. \n",
    "    Only keeps the region of the image defined by the polygon formed from `vertices`. \n",
    "    The rest of the image is set to black. \"\"\"\n",
    "    \n",
    "    #defining a blank mask to start with\n",
    "    mask = np.zeros_like(img)   \n",
    "    \n",
    "    #defining a 3 channel or 1 channel color to fill the mask with depending on the input image\n",
    "    if len(img.shape) > 2:\n",
    "        channel_count = img.shape[2]  # i.e. 3 or 4 depending on your image\n",
    "        ignore_mask_color = (255,) * channel_count\n",
    "    else:\n",
    "        ignore_mask_color = 255\n",
    "        \n",
    "    #filling pixels inside the polygon defined by \"vertices\" with the fill color    \n",
    "    cv2.fillPoly(mask, vertices, ignore_mask_color)\n",
    "    \n",
    "    #returning the image only where mask pixels are nonzero\n",
    "    masked_image = cv2.bitwise_and(img, mask)\n",
    "    return masked_image\n",
    "\n",
    "\n",
    "\n",
    "def draw_lines(img, lines, color=[255, 0, 0], thickness=2): #MP NOTE: def name changed from draw_lines to draw_all_lines\n",
    "    \"\"\"\n",
    "    NOTE: this is the function you might want to use as a starting point once you want to \n",
    "    average/extrapolate the line segments you detect to map out the full\n",
    "    extent of the lane (going from the result shown in raw-lines-example.mp4\n",
    "    to that shown in P1_example.mp4).  \n",
    "    \n",
    "    Think about things like separating line segments by their \n",
    "    slope ((y2-y1)/(x2-x1)) to decide which segments are part of the left\n",
    "    line vs. the right line.  Then, you can average the position of each of \n",
    "    the lines and extrapolate to the top and bottom of the lane.\n",
    "    \n",
    "    This function draws `lines` with `color` and `thickness`.    \n",
    "    Lines are drawn on the image inplace (mutates the image).\n",
    "    If you want to make the lines semi-transparent, think about combining\n",
    "    this function with the weighted_img() function below\n",
    "    \"\"\"\n",
    "    for line in lines:\n",
    "        for x1,y1,x2,y2 in line:\n",
    "            cv2.line(img, (x1, y1), (x2, y2), color, thickness)\n",
    "\n",
    "def hough_lines(img, rho, theta, threshold, min_line_len, max_line_gap):\n",
    "    \"\"\"\n",
    "    `img` should be the output of a Canny transform.\n",
    "     Returns an image with hough lines drawn.\n",
    "    \n",
    "    MP:\n",
    "    http://docs.opencv.org/2.4/modules/imgproc/doc/feature_detection.html?highlight=houghlines#houghlines \n",
    "    The hough line transform is used to detect straight lines\n",
    "    \n",
    "    image – 8-bit, single-channel binary source image. The image may be modified by the function.\n",
    "    rho – Distance resolution of the accumulator in pixels.\n",
    "    theta – Angle resolution of the accumulator in radians.\n",
    "    threshold – Accumulator threshold parameter. Only those lines are returned that get enough votes.\n",
    "    minLineLength – Minimum line length. Line segments shorter than that are rejected.\n",
    "    maxLineGap – Maximum allowed gap between points on the same line to link them.\n",
    "    \"\"\"\n",
    "    lines = cv2.HoughLinesP(img, rho, theta, threshold, np.array([]), minLineLength=min_line_len, maxLineGap=max_line_gap)\n",
    "    line_img = np.zeros((img.shape[0], img.shape[1], 3), dtype=np.uint8)\n",
    "    draw_lines(line_img, lines)\n",
    "    return line_img\n",
    "\n",
    "# Python 3 has support for cool math symbols.\n",
    "\n",
    "def weighted_img(img, initial_img, α=0.8, β=1., λ=0.):\n",
    "    \"\"\"\n",
    "    `img` is the output of the hough_lines(), An image with lines drawn on it.\n",
    "    Should be a blank image (all black) with lines drawn on it.\n",
    "    \n",
    "    `initial_img` should be the image before any processing.\n",
    "    \n",
    "    The result image is computed as follows:\n",
    "    \n",
    "    initial_img * α + img * β + λ\n",
    "    NOTE: initial_img and img must be the same shape!\n",
    "    \"\"\"\n",
    "    return cv2.addWeighted(initial_img, α, img, β, λ)\n"
   ]
  },
  {
   "cell_type": "code",
   "execution_count": null,
   "metadata": {
    "collapsed": false,
    "deletable": true,
    "editable": true
   },
   "outputs": [],
   "source": [
    "#MP:  Set debug to false to allow debugging the algorithm for drawing onto the output images\n",
    "debug=False\n",
    "\n",
    "\n",
    "# We'll average information between frames\n",
    "prev_lines = collections.deque([], 5)\n",
    "\n",
    "def reset_prev_lines():\n",
    "    prev_lines.clear()\n",
    "\n",
    "def draw_lines(img, lines, color=[255, 0, 0], thickness=10):\n",
    "    \"\"\"\n",
    "    MP:\n",
    "    APPLY RECOMMENDED METHODS:\n",
    "    1) Group lines into left and right arrays determined by their slopes\n",
    "    2) Calculate the moving average of the slopes.\n",
    "    3) Remove the lines which do not equal the average value.\n",
    "    \"\"\"\n",
    "    lSlopeAvg=0\n",
    "    rSlopeAvg=0\n",
    "    slope_tolerance=.1\n",
    "    #MP: Remove line values which are horizontal\n",
    "    slope_tolerance_from_zero=.5\n",
    "    bottom_y = img.shape[0]\n",
    "    top_y = int(bottom_y /1.6)\n",
    "    \n",
    "    lLines = []\n",
    "    rLines = []\n",
    "    l = 1\n",
    "    r = 1\n",
    "    \n",
    "    for line in lines:\n",
    "        for x1,y1,x2,y2 in line:\n",
    "            slope = (y2-y1)/(x2-x1)\n",
    "            if np.absolute(slope) == np.inf or np.absolute(slope) < slope_tolerance_from_zero:\n",
    "                continue\n",
    "            if debug:\n",
    "                cv2.line(img, (x1, y1), (x2, y2), color, thickness)\n",
    "            \n",
    "            #MP: If slope is less than zero, append to left line array\n",
    "            if slope < 0:\n",
    "                lSlopeAvg = lSlopeAvg + (slope - lSlopeAvg) / l\n",
    "                l += 1\n",
    "                if np.absolute(lSlopeAvg - slope) < slope_tolerance :\n",
    "                    lLines.append((x1,y1))\n",
    "                    lLines.append((x2,y2))\n",
    "            else:\n",
    "                #MP: If slope is not less than zero, append to right line array\n",
    "                rSlopeAvg = rSlopeAvg + (slope - rSlopeAvg) / r\n",
    "                r += 1\n",
    "                if np.absolute(rSlopeAvg - slope) < slope_tolerance :\n",
    "                    rLines.append((x1,y1))\n",
    "                    rLines.append((x2,y2))               \n",
    "    \n",
    "    \"\"\"\n",
    "    MP:\n",
    "    1) After grouping the L and R lines, apply cv2.fitline which fits the sets of points to a single line.\n",
    "    2) cv2.fitline: Output line parameters. It should be a vector of 4 elements (like Vec4f) - (vx, vy, x0, y0), \n",
    "    where (vx, vy) is a normalized vector collinear to the line and (x0, y0) is a point on the line. \n",
    "    \"\"\"\n",
    "    if len(lLines) > 0 and len(rLines) > 0  :\n",
    "        [left_vx,left_vy,left_x,left_y] = cv2.fitLine(np.array(lLines, dtype=np.int32), cv2.DIST_L2,0,0.01,0.01)      \n",
    "        left_slope = left_vy / left_vx\n",
    "        left_b = left_y - (left_slope*left_x)\n",
    "\n",
    "        [right_vx,right_vy,right_x,right_y] = cv2.fitLine(np.array(rLines, dtype=np.int32), cv2.DIST_L2,0,0.01,0.01)    \n",
    "        right_slope = right_vy / right_vx\n",
    "        right_b = right_y - (right_slope*right_x)\n",
    "\n",
    "        #MP:  Calculate the average of this line, and that of previous frames    \n",
    "        prev_lines.append((left_b, left_slope, right_b, right_slope))\n",
    "    \n",
    "    if len(prev_lines) > 0: \n",
    "        avg = np.sum(prev_lines, -3) /len(prev_lines)\n",
    "        left_b = avg[0]\n",
    "        left_slope = avg[1]\n",
    "        right_b = avg[2]\n",
    "        right_slope = avg[3]\n",
    "\n",
    "        \"\"\"\n",
    "        Using the slope and the y-inercept: \n",
    "        Calculate the x coordinates of the start and end points at the top of the road and at the bottom of the road.      \n",
    "        \"\"\"\n",
    "        \n",
    "        ltop_x = (top_y - left_b) / left_slope\n",
    "        lbottom_x = (bottom_y - left_b) / left_slope\n",
    "\n",
    "        rtop_x = (top_y - right_b) / right_slope\n",
    "        rbottom_x = (bottom_y - right_b) / right_slope\n",
    "\n",
    "        cv2.line(img, (lbottom_x, bottom_y), (ltop_x, top_y), color, thickness)\n",
    "        cv2.line(img, (rbottom_x, bottom_y), (rtop_x, top_y), color, thickness)\n",
    "\n"
   ]
  },
  {
   "cell_type": "markdown",
   "metadata": {
    "deletable": true,
    "editable": true
   },
   "source": [
    "## Test on Images\n",
    "\n",
    "Now you should build your pipeline to work on the images in the directory \"test_images\"  \n",
    "**You should make sure your pipeline works well on these images before you try the videos.**"
   ]
  },
  {
   "cell_type": "code",
   "execution_count": null,
   "metadata": {
    "collapsed": false,
    "deletable": true,
    "editable": true,
    "scrolled": true
   },
   "outputs": [],
   "source": [
    "#Import necessary libraries\n",
    "import matplotlib.pyplot as plt\n",
    "import matplotlib.image as mpimg\n",
    "import collections\n",
    "import numpy as np\n",
    "import cv2\n",
    "import math\n",
    "%matplotlib inline\n",
    "import os\n",
    "\n",
    "folder = \"test_images/\"\n",
    "images = os.listdir(folder)\n",
    "\n",
    "#MP REGION OF INTEREST (ROI)\n",
    "def get_roi(w, h):\n",
    "    v1 = (int(w*.11),int(h))\n",
    "    v2 = (int(w*.44),int(h*.60))\n",
    "    v3 = (int(w*.57),int(h*.60))\n",
    "    v4 = (int(w*.97),int(h))\n",
    "    return([[v1,v2,v3,v4]])\n",
    "\n",
    "\n",
    "canny_l_threshold = 70\n",
    "canny_h_threshold = 200\n",
    "\n",
    "rho=1\n",
    "theta=np.pi/180\n",
    "threshold=20\n",
    "min_line_len=10\n",
    "max_line_gap=20\n",
    "\n",
    "frame=1\n",
    "\n",
    "def pipeline(image):\n",
    "    # Identify region of interest\n",
    "    roi_vertices = np.array(get_roi(image.shape[1],image.shape[0]), dtype=np.int32)  \n",
    "    \n",
    "    # Add extra blur -- MP Changed kernel size from 7 to 3 \n",
    "    blurred = gaussian_blur(image, 3)\n",
    "    \n",
    "    # Run Canny for edge detection\n",
    "    edges = canny(blurred, canny_l_threshold, canny_h_threshold)   \n",
    "\n",
    "    # Focus on the region of interest\n",
    "    roi = region_of_interest(edges, roi_vertices)\n",
    "    \n",
    "    \"\"\"MP: After we have the Canny edges,\n",
    "    then run Hough transform\n",
    "    to try to find the lines\"\"\"\n",
    "    \n",
    "    lines = hough_lines(roi, rho, theta, threshold, min_line_len, max_line_gap)\n",
    "               \n",
    "    # Overlay the Hough lines we calculated onto the original image\n",
    "    \n",
    "    if debug: \n",
    "        return region_of_interest(weighted_img(lines, image),roi_vertices)\n",
    "    else:\n",
    "        return weighted_img(lines, image)\n",
    "       \n",
    "\n",
    "for imageFile in images:\n",
    "    original_filename, ext = os.path.splitext(imageFile)\n",
    "    if ext != \".jpg\":\n",
    "        continue\n",
    "        \n",
    "    image = mpimg.imread(folder + imageFile)\n",
    "    reset_prev_lines()\n",
    "    output = pipeline(image)\n",
    "    \n",
    "    plt.figure()\n",
    "    plt.imshow(output, cmap='Greys_r')\n",
    "    \n",
    "    new_filename = os.path.join(folder+ \"out/\", original_filename + \"_out\" + ext)\n",
    "    mpimg.imsave(new_filename, output, cmap='Greys_r')\n",
    "    \n",
    "    \n"
   ]
  },
  {
   "cell_type": "markdown",
   "metadata": {
    "deletable": true,
    "editable": true
   },
   "source": [
    "run your solution on all test_images and make copies into the test_images directory)."
   ]
  },
  {
   "cell_type": "markdown",
   "metadata": {
    "deletable": true,
    "editable": true
   },
   "source": [
    "## Test on Videos\n",
    "\n",
    "You know what's cooler than drawing lanes over images? Drawing lanes over video!\n",
    "\n",
    "We can test our solution on two provided videos:\n",
    "\n",
    "`solidWhiteRight.mp4`\n",
    "\n",
    "`solidYellowLeft.mp4`"
   ]
  },
  {
   "cell_type": "code",
   "execution_count": null,
   "metadata": {
    "collapsed": false,
    "deletable": true,
    "editable": true
   },
   "outputs": [],
   "source": [
    "#importing some useful packages\n",
    "import matplotlib.pyplot as plt\n",
    "import matplotlib.image as mpimg\n",
    "import numpy as np\n",
    "import cv2\n",
    "%matplotlib inline\n",
    "import os\n",
    "os.listdir()\n",
    "from moviepy.editor import VideoFileClip\n",
    "from IPython.display import HTML\n",
    "\n"
   ]
  },
  {
   "cell_type": "code",
   "execution_count": null,
   "metadata": {
    "collapsed": false,
    "deletable": true,
    "editable": true
   },
   "outputs": [],
   "source": [
    "def process_image(image):\n",
    "    \"\"\" NOTE: The output you return should be a color image (3 channel) for processing video below\n",
    "    TODO: put your pipeline here,\n",
    "    you should return the final output (image with lines are drawn on lanes)\"\"\"\n",
    "    \n",
    "    result = pipeline(image)\n",
    "    \n",
    "    return result\n"
   ]
  },
  {
   "cell_type": "markdown",
   "metadata": {
    "deletable": true,
    "editable": true
   },
   "source": [
    "Let's try the one with the solid white lane on the right first ..."
   ]
  },
  {
   "cell_type": "code",
   "execution_count": null,
   "metadata": {
    "collapsed": false,
    "deletable": true,
    "editable": true
   },
   "outputs": [],
   "source": [
    "#Lets try with the solid white lane\n",
    "\n",
    "white_output = 'white.mp4'\n",
    "clip1 = VideoFileClip(\"solidWhiteRight.mp4\",audio=False) #MP added \" ,audio=False\n",
    "reset_prev_lines()\n",
    "white_clip = clip1.fl_image(process_image) #NOTE: this function expects color images!!\n",
    "%time white_clip.write_videofile(white_output, audio=False)\n"
   ]
  },
  {
   "cell_type": "markdown",
   "metadata": {
    "deletable": true,
    "editable": true
   },
   "source": [
    "Play the video inline, or if you prefer find the video in your filesystem (should be in the same directory) and play it in your video player of choice."
   ]
  },
  {
   "cell_type": "code",
   "execution_count": null,
   "metadata": {
    "collapsed": false,
    "deletable": true,
    "editable": true
   },
   "outputs": [],
   "source": [
    "#PLAY THE VIDEO INLINE USING HTML\n",
    "HTML(\"\"\"\n",
    "<video width=\"960\" height=\"540\" controls>\n",
    "  <source src=\"{0}\">\n",
    "</video>\n",
    "\"\"\".format(white_output))"
   ]
  },
  {
   "cell_type": "markdown",
   "metadata": {
    "deletable": true,
    "editable": true
   },
   "source": [
    "**At this point, if you were successful you probably have the Hough line segments drawn onto the road, but what about identifying the full extent of the lane and marking it clearly as in the example video (P1_example.mp4)?  Think about defining a line to run the full length of the visible lane based on the line segments you identified with the Hough Transform.  Modify your draw_lines function accordingly and try re-running your pipeline.**"
   ]
  },
  {
   "cell_type": "markdown",
   "metadata": {
    "deletable": true,
    "editable": true
   },
   "source": [
    "Now for the one with the solid yellow lane on the left. This one's more tricky!"
   ]
  },
  {
   "cell_type": "code",
   "execution_count": null,
   "metadata": {
    "collapsed": false,
    "deletable": true,
    "editable": true
   },
   "outputs": [],
   "source": [
    "#NOW, GENERATE THE SOLID YELLOW LINE VIDEO:\n",
    "yellow_output = 'yellow.mp4'\n",
    "clip2 = VideoFileClip(\"solidYellowLeft.mp4\",audio=False)   #MP added \" ,audio=False\n",
    "reset_prev_lines()\n",
    "yellow_clip = clip2.fl_image(process_image)\n",
    "%time yellow_clip.write_videofile(yellow_output, audio=False)"
   ]
  },
  {
   "cell_type": "code",
   "execution_count": null,
   "metadata": {
    "collapsed": false,
    "deletable": true,
    "editable": true,
    "scrolled": true
   },
   "outputs": [],
   "source": [
    "HTML(\"\"\"\n",
    "<video width=\"960\" height=\"540\" controls>\n",
    "  <source src=\"{0}\">\n",
    "</video>\n",
    "\"\"\".format(yellow_output))"
   ]
  },
  {
   "cell_type": "markdown",
   "metadata": {
    "deletable": true,
    "editable": true
   },
   "source": [
    "## Reflections\n",
    "\n",
    "Congratulations on finding the lane lines!  As the final step in this project, we would like you to share your thoughts on your lane finding pipeline... specifically, how could you imagine making your algorithm better / more robust?  Where will your current algorithm be likely to fail?\n",
    "\n",
    "Please add your thoughts below,  and if you're up for making your pipeline more robust, be sure to scroll down and check out the optional challenge video below!\n"
   ]
  },
  {
   "cell_type": "code",
   "execution_count": null,
   "metadata": {
    "collapsed": false,
    "deletable": true,
    "editable": true
   },
   "outputs": [],
   "source": [
    "\"\"\"\n",
    "NEW REFLECTION SUMMARY:\n",
    "\n",
    "SUMMARY OF MY PIPELINE:\n",
    "1) Identify image shape (roi_vertices)\n",
    "2) Add (gaussian) blur: I decreased from 7 to 3 kernel size to improve Canny edge detection.\n",
    "3) Run canny for edge detection\n",
    "4) Focus on the region of interest\n",
    "5) Run Hough transform to try to find the lines\n",
    "6) Draw lines\n",
    "\n",
    "WEAKNESSES OF MY PIPELINE:\n",
    "Weaknesses of my pipeline would be problems caused by:\n",
    "-Changes in the field of view: Obstructions such as other cars in the field of view\n",
    "-Changes in the linearity of lane lines: Extreme curved lines on turns\n",
    "-Changes in light conditions: Extreme low light at night\n",
    "-Changes in light reflection: Reflections and low contrast from water on road\n",
    "-Missing lines and sections of lines: Due to snow and puddles on road.\n",
    "\n",
    "WHAT I WOULD IMPROVE ON IN ADVANCED LANE LINES: COLOR THRESHHOLDING\n",
    "What I would like to add for the Advanced Lane Lines, to correct the curved line problem:\n",
    "In my Optional Challenge saved video, my right line jumps for a sec, due to curvature of line. \n",
    "For curving lines, color threshholding would help delineate the lines.\n",
    "\n",
    "------------------------------\n",
    "\n",
    "NEW REFLECTION: MY PIPELINE\n",
    "Using our 1st static test image, we display the image dimensions of 540 x 960 and 3 color channels.\n",
    "\n",
    "GRAYSCALE:\n",
    "One of the first things we do is convert the 3 channel RGB to 1 channel (grayscale).\n",
    "That will help the Canny transform, which looks at the gradient contrast. \n",
    "\n",
    "GAUSSIAN BLUR:\n",
    "We then apply the Gaussian blur, because the blurred average effect helps us to only focus on strongly contrasting boundaries (not noisy weak boundaries). The parameters are image and kernel size. Kernel size is the size of the region that is averaged.  I originally used a kernel size of 7, which is probably on the higher end of the best range, so I modified the value down to 3.\n",
    "\n",
    "CANNY TRANSFORM:\n",
    "After we blur, we find the edges, using Canny. The parameters take the blurred gray scale image, and create a binary image determined by the strength of the pixels",
    "Between the low and high threshhold, the value is one. Otherwise, the value is 0. I used a low threshhold of 70 and a high threshhold of 200.\n",
    "\n",
    "ROI:\n",
    "To identify the region of interest roi, we perform a crop of the edges image, we use imshape, to pull the height and width values of the image, and create 4 vertices: v1,v2,v3,v4. They values of the vertices are in percentages:\n",
    "def get_roi(w, h):\n",
    "    v1 = (int(w*.11),int(h)), \n",
    "    v2 = (int(w*.44),int(h*.60))\n",
    "    v3 = (int(w*.57),int(h*.60))\n",
    "    v4 = (int(w*.97),int(h))\n",
    "    return([[v1,v2,v3,v4]])\n",
    "My calculated vertices are: (105, 540) (422, 324) (547, 324) (931, 540)\n",
    "\n",
    "HOUGH LINES TRANSFORM:\n",
    "Hough lines is doing the line calculations, and then calling the draw function.\n",
    "\n",
    "Hough_lines takes 6 arguments:  \n",
    "rho=1 (maximum resolution in pixels)\n",
    "theta=np.pi/180 (1 degree)\n",
    "threshold=20 (Number of votes to be considered a binary point)\n",
    "min_line_len=10 (Minimum length of line)\n",
    "max_line_gap=20 (I do not want gap bigger than 20)\n",
    "\n",
    "In hough lines transform, we can transform a line to a point, and then transform that point back to a line: \n",
    "The problem with calculating y = mx + c is that m, or slope of a vertical line, is undefined, \n",
    "Every y has the same value of x. Delta y over delta x is undefined, because the x denominator is zero.\n",
    "\n",
    "So instead of using the simple equation of a line, we us:  rho = x cos theta + y sin theta, where rho is the perpendicular distance from the origin to the line, and theta is the angle formed by this perpendicular line and horizontal axis measured counterclockwise.  (Rho is rows, theta is columns.)\n",
    "\n",
    "We are identifying theta values that correspond to rho values, and we are saving those pairs.\n",
    "We find where there is the maximum amount of overlap in the lines, and that corresponds to a strong binary point.\n",
    "\n",
    "Threshhold is the number of votes required in our grid to count and even be considered a line.\n",
    "Min_line_length is obviously the minimum length of what is considered a line\n",
    "Max_line_gap is the maximum gap allowed between lines.\n",
    "\n",
    "WEIGHTED IMAGE:\n",
    "Weighted_img is to overlay the original image onto our lane line markers image.\n",
    "\n",
    "Weighted_img has 5 arguments:\n",
    "lines: The lane lines from the Hough transform\n",
    "img: The original image\n",
    "alpha ?=0.8, if it is less than one, the lines image will be just a bit see-through (tranluscent)\n",
    "beta ?=1.0, it is one, so the original image is not transparent at all\n",
    "lambda ?=0.0, we set to zero, which means no diffusion.\n",
    "\n",
    "VIDEO PROCESSING:\n",
    "So our pipeline now looks like this:\n",
    "def pipeline(image):\n",
    "    # Identify region of interest\n",
    "    roi_vertices = np.array(get_roi(image.shape[1],image.shape[0]), dtype=np.int32)  \n",
    "    \n",
    "    # Add extra blur -- MP Changed kernel size from 7 to 3 \n",
    "    blurred = gaussian_blur(image, 3)\n",
    "    \n",
    "    edges = canny(blurred, canny_l_threshold, canny_h_threshold)   \n",
    "\n",
    "    roi = region_of_interest(edges, roi_vertices)\n",
    "   \n",
    "    lines = hough_lines(roi, rho, theta, threshold, min_line_len, max_line_gap)\n",
    "               \n",
    "    # Overlay the Hough lines we calculated onto the original image\n",
    "    if debug: \n",
    "        return region_of_interest(weighted_img(lines, image),roi_vertices)\n",
    "    else:\n",
    "        return weighted_img(lines, image)\n",
    "\n",
    "APPLY THE PIPELINE FRAME-BY-FRAME:\n",
    "   white_output = 'white.mp4'\n",
    "   clip1 = VideoFileClip(\"solidWhiteRight.mp4\",audio=False)\n",
    "   reset_prev_lines()\n",
    "   white_clip = clip1.fl_image(process_image)\n",
    "   %time white_clip.write_videofile(white_output, audio=False)\n",
    "\n",
    "DISPLAY THE VIDEO INLINE:\n",
    "   HTML(\"\"\"\n",
    "   <video width=\"960\" height=\"540\" controls>\n",
    "       <source src=\"{0}\">\n",
    "   </video>\n",
    "   \"\"\".format(white_output))\n",
    "\n",
    "DRAW LINES:\n",
    "Draw_lines is creating the line segments x1, y1 and x2, y2 for the left and right line segments, and near the end, it will create only one long x1,y1 and x2, y2 pair for left and right\n",
    "\n",
    "Hough lines is generating a list of start points and end points, and it hands it off to draw_lines, which connects the points using a line on a blank template. But we do NOT want a series of small line segments, we only want TWO lines, one final left, and one final right.\n",
    "\n",
    "So the draw_lines algorithm uses slopes and centers to calculate the coordinates of the lines.\n",
    "\n",
    "APPLY RECOMMENDED METHODS:\n",
    "    1) Group lines into left and right arrays determined by their slopes\n",
    "    2) Calculate the moving average of the slopes.\n",
    "    3) Remove the lines which do not equal the average value.\n",
    "    lLines = []\n",
    "    rLines = []\n",
    "    lSlopeAvg=0\n",
    "    rSlopeAvg=0\n",
    "\n",
    "    4) After grouping the L and R lines, apply cv2.fitline \n",
    "    which fits the sets of points to a single  line.\n",
    "\n",
    "    5) cv2.fitline: Output line parameters. \n",
    "    It should be a vector of 4 elements (like Vec4f) - (vx, vy, x0, y0), \n",
    "    where (vx, vy) is a normalized vector collinear to the line and (x0, y0) is a point on the line. \n",
    "\n",
    "    6) Using the slope and the y-inercept: \n",
    "    Calculate the x coordinates of the start and end points at the top of the road and at the\n",
    "    bottom of the road.  \n",
    "\n",
    "\"\"\""
   ]
  },
  {
   "cell_type": "markdown",
   "metadata": {
    "deletable": true,
    "editable": true
   },
   "source": [
    "## Submission\n",
    "\n",
    "If you're satisfied with your video outputs it's time to submit!  Submit this ipython notebook for review.\n"
   ]
  },
  {
   "cell_type": "markdown",
   "metadata": {
    "collapsed": true,
    "deletable": true,
    "editable": true
   },
   "source": [
    "## Optional Challenge\n",
    "\n",
    "Try your lane finding pipeline on the video below.  \n",
    "Does it still work?  YES, IT WORKS FAIRLY WELL.  IT IS OVER-EXTENDING THE CURVE JUST A BIT. \n",
    "\n",
    "Can you figure out a way to make it more robust?  \n",
    "I WOULD LIKE TO FIGURE OUT HOW TO HAVE IT FIT THE CURVE WITHOUT OVER-EXTENDING.\n",
    "\n",
    "If you're up for the challenge, modify your pipeline so it works with this video and submit it along with the rest of your project!"
   ]
  },
  {
   "cell_type": "code",
   "execution_count": null,
   "metadata": {
    "collapsed": false,
    "deletable": true,
    "editable": true
   },
   "outputs": [],
   "source": [
    "#NOW, GENERATE THE CHALLENGE EXTRA VIDEO:\n",
    "challengeExtra_output = 'challengeExtra.mp4'\n",
    "clip3 = VideoFileClip('challenge.mp4', audio=False)  #MP added \" ,audio=False\n",
    "reset_prev_lines()\n",
    "challengeExtra_clip = clip3.fl_image(process_image)\n",
    "%time challengeExtra_clip.write_videofile(challengeExtra_output, audio=False)"
   ]
  },
  {
   "cell_type": "code",
   "execution_count": null,
   "metadata": {
    "collapsed": false,
    "deletable": true,
    "editable": true
   },
   "outputs": [],
   "source": [
    "HTML(\"\"\"\n",
    "<video width=\"960\" height=\"540\" controls>\n",
    "  <source src=\"{0}\">\n",
    "</video>\n",
    "\"\"\".format(challengeExtra_output))"
   ]
  }
 ],
 "metadata": {
  "anaconda-cloud": {},
  "kernelspec": {
   "display_name": "Python 3",
   "language": "python",
   "name": "python3"
  },
  "language_info": {
   "codemirror_mode": {
    "name": "ipython",
    "version": 3
   },
   "file_extension": ".py",
   "mimetype": "text/x-python",
   "name": "python",
   "nbconvert_exporter": "python",
   "pygments_lexer": "ipython3",
   "version": "3.5.2"
  },
  "widgets": {
   "state": {},
   "version": "1.1.2"
  }
 },
 "nbformat": 4,
 "nbformat_minor": 0
}
